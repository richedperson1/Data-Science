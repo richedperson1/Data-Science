{
 "cells": [
  {
   "cell_type": "code",
   "execution_count": 38,
   "metadata": {},
   "outputs": [],
   "source": [
    "import pandas as pd\n",
    "import mysql.connector as con\n"
   ]
  },
  {
   "cell_type": "markdown",
   "metadata": {},
   "source": [
    "### Dataframe loading"
   ]
  },
  {
   "cell_type": "code",
   "execution_count": 39,
   "metadata": {},
   "outputs": [
    {
     "data": {
      "text/html": [
       "<div>\n",
       "<style scoped>\n",
       "    .dataframe tbody tr th:only-of-type {\n",
       "        vertical-align: middle;\n",
       "    }\n",
       "\n",
       "    .dataframe tbody tr th {\n",
       "        vertical-align: top;\n",
       "    }\n",
       "\n",
       "    .dataframe thead th {\n",
       "        text-align: right;\n",
       "    }\n",
       "</style>\n",
       "<table border=\"1\" class=\"dataframe\">\n",
       "  <thead>\n",
       "    <tr style=\"text-align: right;\">\n",
       "      <th></th>\n",
       "      <th>ID</th>\n",
       "      <th>innings</th>\n",
       "      <th>overs</th>\n",
       "      <th>ballnumber</th>\n",
       "      <th>batter</th>\n",
       "      <th>bowler</th>\n",
       "      <th>non-striker</th>\n",
       "      <th>extra_type</th>\n",
       "      <th>batsman_run</th>\n",
       "      <th>extras_run</th>\n",
       "      <th>total_run</th>\n",
       "      <th>non_boundary</th>\n",
       "      <th>isWicketDelivery</th>\n",
       "      <th>player_out</th>\n",
       "      <th>kind</th>\n",
       "      <th>fielders_involved</th>\n",
       "      <th>BattingTeam</th>\n",
       "    </tr>\n",
       "  </thead>\n",
       "  <tbody>\n",
       "    <tr>\n",
       "      <th>0</th>\n",
       "      <td>1312200</td>\n",
       "      <td>1</td>\n",
       "      <td>0</td>\n",
       "      <td>1</td>\n",
       "      <td>YBK Jaiswal</td>\n",
       "      <td>Mohammed Shami</td>\n",
       "      <td>JC Buttler</td>\n",
       "      <td>NaN</td>\n",
       "      <td>0</td>\n",
       "      <td>0</td>\n",
       "      <td>0</td>\n",
       "      <td>0</td>\n",
       "      <td>0</td>\n",
       "      <td>NaN</td>\n",
       "      <td>NaN</td>\n",
       "      <td>NaN</td>\n",
       "      <td>Rajasthan Royals</td>\n",
       "    </tr>\n",
       "    <tr>\n",
       "      <th>1</th>\n",
       "      <td>1312200</td>\n",
       "      <td>1</td>\n",
       "      <td>0</td>\n",
       "      <td>2</td>\n",
       "      <td>YBK Jaiswal</td>\n",
       "      <td>Mohammed Shami</td>\n",
       "      <td>JC Buttler</td>\n",
       "      <td>legbyes</td>\n",
       "      <td>0</td>\n",
       "      <td>1</td>\n",
       "      <td>1</td>\n",
       "      <td>0</td>\n",
       "      <td>0</td>\n",
       "      <td>NaN</td>\n",
       "      <td>NaN</td>\n",
       "      <td>NaN</td>\n",
       "      <td>Rajasthan Royals</td>\n",
       "    </tr>\n",
       "    <tr>\n",
       "      <th>2</th>\n",
       "      <td>1312200</td>\n",
       "      <td>1</td>\n",
       "      <td>0</td>\n",
       "      <td>3</td>\n",
       "      <td>JC Buttler</td>\n",
       "      <td>Mohammed Shami</td>\n",
       "      <td>YBK Jaiswal</td>\n",
       "      <td>NaN</td>\n",
       "      <td>1</td>\n",
       "      <td>0</td>\n",
       "      <td>1</td>\n",
       "      <td>0</td>\n",
       "      <td>0</td>\n",
       "      <td>NaN</td>\n",
       "      <td>NaN</td>\n",
       "      <td>NaN</td>\n",
       "      <td>Rajasthan Royals</td>\n",
       "    </tr>\n",
       "    <tr>\n",
       "      <th>3</th>\n",
       "      <td>1312200</td>\n",
       "      <td>1</td>\n",
       "      <td>0</td>\n",
       "      <td>4</td>\n",
       "      <td>YBK Jaiswal</td>\n",
       "      <td>Mohammed Shami</td>\n",
       "      <td>JC Buttler</td>\n",
       "      <td>NaN</td>\n",
       "      <td>0</td>\n",
       "      <td>0</td>\n",
       "      <td>0</td>\n",
       "      <td>0</td>\n",
       "      <td>0</td>\n",
       "      <td>NaN</td>\n",
       "      <td>NaN</td>\n",
       "      <td>NaN</td>\n",
       "      <td>Rajasthan Royals</td>\n",
       "    </tr>\n",
       "    <tr>\n",
       "      <th>4</th>\n",
       "      <td>1312200</td>\n",
       "      <td>1</td>\n",
       "      <td>0</td>\n",
       "      <td>5</td>\n",
       "      <td>YBK Jaiswal</td>\n",
       "      <td>Mohammed Shami</td>\n",
       "      <td>JC Buttler</td>\n",
       "      <td>NaN</td>\n",
       "      <td>0</td>\n",
       "      <td>0</td>\n",
       "      <td>0</td>\n",
       "      <td>0</td>\n",
       "      <td>0</td>\n",
       "      <td>NaN</td>\n",
       "      <td>NaN</td>\n",
       "      <td>NaN</td>\n",
       "      <td>Rajasthan Royals</td>\n",
       "    </tr>\n",
       "  </tbody>\n",
       "</table>\n",
       "</div>"
      ],
      "text/plain": [
       "        ID  innings  overs  ballnumber       batter          bowler  \\\n",
       "0  1312200        1      0           1  YBK Jaiswal  Mohammed Shami   \n",
       "1  1312200        1      0           2  YBK Jaiswal  Mohammed Shami   \n",
       "2  1312200        1      0           3   JC Buttler  Mohammed Shami   \n",
       "3  1312200        1      0           4  YBK Jaiswal  Mohammed Shami   \n",
       "4  1312200        1      0           5  YBK Jaiswal  Mohammed Shami   \n",
       "\n",
       "   non-striker extra_type  batsman_run  extras_run  total_run  non_boundary  \\\n",
       "0   JC Buttler        NaN            0           0          0             0   \n",
       "1   JC Buttler    legbyes            0           1          1             0   \n",
       "2  YBK Jaiswal        NaN            1           0          1             0   \n",
       "3   JC Buttler        NaN            0           0          0             0   \n",
       "4   JC Buttler        NaN            0           0          0             0   \n",
       "\n",
       "   isWicketDelivery player_out kind fielders_involved       BattingTeam  \n",
       "0                 0        NaN  NaN               NaN  Rajasthan Royals  \n",
       "1                 0        NaN  NaN               NaN  Rajasthan Royals  \n",
       "2                 0        NaN  NaN               NaN  Rajasthan Royals  \n",
       "3                 0        NaN  NaN               NaN  Rajasthan Royals  \n",
       "4                 0        NaN  NaN               NaN  Rajasthan Royals  "
      ]
     },
     "execution_count": 39,
     "metadata": {},
     "output_type": "execute_result"
    }
   ],
   "source": [
    "iplData = pd.read_csv(\"../../dataset/IPL_Ball_by_Ball_2008_2022.csv\")\n",
    "\n",
    "iplData.head()"
   ]
  },
  {
   "cell_type": "markdown",
   "metadata": {},
   "source": [
    "### SQL query for Table creation"
   ]
  },
  {
   "cell_type": "code",
   "execution_count": 43,
   "metadata": {},
   "outputs": [
    {
     "name": "stdout",
     "output_type": "stream",
     "text": [
      "CREATE TABLE IPL_Data (\n",
      "    \"ID\" INT, \"innings\" INT, \"overs\" INT, \"ballnumber\" INT, \"batter\" NVARCHAR(255), \"bowler\" NVARCHAR(255), \"non-striker\" NVARCHAR(255), \"extra_type\" NVARCHAR(255), \"batsman_run\" INT, \"extras_run\" INT, \"total_run\" INT, \"non_boundary\" INT, \"isWicketDelivery\" INT, \"player_out\" NVARCHAR(255), \"kind\" NVARCHAR(255), \"fielders_involved\" NVARCHAR(255), \"BattingTeam\" NVARCHAR(255)\n",
      ")\n",
      "\n"
     ]
    }
   ],
   "source": [
    "\n",
    "\n",
    "data_type_mapping = {\n",
    "    'int64': 'INT',\n",
    "    'float64': 'FLOAT',\n",
    "    'object': 'NVARCHAR(255)'\n",
    "}\n",
    "\n",
    "# Create a list of column definitions based on the DataFrame's data types\n",
    "column_definitions = [f'\"{col}\" {data_type_mapping[iplData[col].dtype.name]}' for col in iplData.columns]\n",
    "table_name = \"IPL_Data\"\n",
    "\n",
    "create_table_sql = f'''CREATE TABLE {table_name} (\n",
    "    {', '.join(column_definitions)}\n",
    ")\n",
    "'''\n",
    "\n",
    "print(create_table_sql)"
   ]
  },
  {
   "cell_type": "code",
   "execution_count": 66,
   "metadata": {},
   "outputs": [
    {
     "data": {
      "text/plain": [
       "17"
      ]
     },
     "execution_count": 66,
     "metadata": {},
     "output_type": "execute_result"
    }
   ],
   "source": [
    "len(iplData.columns)"
   ]
  },
  {
   "cell_type": "markdown",
   "metadata": {},
   "source": [
    "### SQL connection with python"
   ]
  },
  {
   "cell_type": "code",
   "execution_count": 87,
   "metadata": {},
   "outputs": [],
   "source": [
    "mycon = con.connect(host='localhost', passwd='ru15070610',\n",
    "                    user='root', database=\"cricket\")\n",
    "\n",
    "cursor = mycon.cursor()\n"
   ]
  },
  {
   "cell_type": "code",
   "execution_count": 61,
   "metadata": {},
   "outputs": [
    {
     "data": {
      "text/plain": [
       "\" 'ID', 'innings', 'overs', 'ballnumber', 'batter', 'bowler',\\n       'non-striker', 'extra_type', 'batsman_run', 'extras_run', 'total_run',\\n       'non_boundary', 'isWicketDelivery', 'player_out', 'kind',\\n       'fielders_involved', 'BattingTeam'\\n\""
      ]
     },
     "execution_count": 61,
     "metadata": {},
     "output_type": "execute_result"
    }
   ],
   "source": [
    "queryString2 = \"\"\" 'ID', 'innings', 'overs', 'ballnumber', 'batter', 'bowler',\n",
    "       'non-striker', 'extra_type', 'batsman_run', 'extras_run', 'total_run',\n",
    "       'non_boundary', 'isWicketDelivery', 'player_out', 'kind',\n",
    "       'fielders_involved', 'BattingTeam'\n",
    "\"\"\"\n",
    "\n",
    "queryString2"
   ]
  },
  {
   "cell_type": "code",
   "execution_count": 90,
   "metadata": {},
   "outputs": [],
   "source": [
    "# table_name = 'CricketMatch'\n",
    "\n",
    "# iplData.to_sql(table_name, mycon, if_exists='replace', index=False)\n",
    "\n",
    "# # Commit the changes and close the connection\n",
    "# cursor.commit()\n",
    "# cursor.close()\n",
    "\n",
    "\n",
    "for index, row in iplData.iterrows():\n",
    "     query = \"INSERT INTO cricket.CricketMatch (\"+ queryString2+\")\"\n",
    "     values = \"values ()\"\n",
    "     finalData = list(row.values)\n",
    "     if index<3:\n",
    "          continue\n",
    "     insert_sql = \"\"\"\n",
    "          INSERT INTO CricketMatch (\n",
    "          ID, innings, overs, ballnumber, batter, bowler, non_striker, extra_type,\n",
    "          batsman_run, extras_run, total_run, non_boundary, isWicketDelivery,\n",
    "          player_out, kind, fielders_involved, BattingTeam\n",
    "          ) VALUES (%s, %s, %s, %s, %s, %s, %s, %s, %s, %s, %s, %s, %s, %s, %s, %s,%s)\n",
    "          \"\"\"\n",
    "     for ind,data in enumerate(finalData):\n",
    "          if f\"{data}\"== \"nan\":\n",
    "               finalData[ind] = None\n",
    "\n",
    "     cursor.execute(insert_sql, finalData)\n",
    "\n",
    "mycon.commit()\n",
    "\n",
    "mycon.close()\n"
   ]
  },
  {
   "cell_type": "code",
   "execution_count": 85,
   "metadata": {},
   "outputs": [],
   "source": [
    "                                                                                               \n",
    "                                                                                                                                                                                                        "
   ]
  },
  {
   "cell_type": "code",
   "execution_count": null,
   "metadata": {},
   "outputs": [],
   "source": [
    "iplData.to_sql('products', cursor, if_exists='replace', index = False)\n",
    " \n",
    "cursor.execute('''  \n",
    "SELECT * FROM IPL_Data\n",
    "          ''')\n",
    "\n",
    "for row in cursor.fetchall():\n",
    "    print (row)"
   ]
  }
 ],
 "metadata": {
  "kernelspec": {
   "display_name": "Python 3",
   "language": "python",
   "name": "python3"
  },
  "language_info": {
   "codemirror_mode": {
    "name": "ipython",
    "version": 3
   },
   "file_extension": ".py",
   "mimetype": "text/x-python",
   "name": "python",
   "nbconvert_exporter": "python",
   "pygments_lexer": "ipython3",
   "version": "3.9.15"
  }
 },
 "nbformat": 4,
 "nbformat_minor": 2
}
