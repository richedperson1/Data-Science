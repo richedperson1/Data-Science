{
 "cells": [
  {
   "cell_type": "code",
   "execution_count": 1,
   "metadata": {},
   "outputs": [
    {
     "name": "stdout",
     "output_type": "stream",
     "text": [
      "Dataset Entropy: 0.934 bits\n",
      "Group1 Entropy: 0.544 bits\n",
      "Group2 Entropy: 1.000 bits\n",
      "Information Gain: 0.117 bits\n"
     ]
    }
   ],
   "source": [
    "from math import log2\n",
    " \n",
    "# calculate the entropy for the split in the dataset\n",
    "def entropy(class0, class1):\n",
    " return -(class0 * log2(class0) + class1 * log2(class1))\n",
    " \n",
    "# split of the main dataset\n",
    "class0 = 13 / 20\n",
    "class1 = 7 / 20\n",
    "# calculate entropy before the change\n",
    "s_entropy = entropy(class0, class1)\n",
    "print('Dataset Entropy: %.3f bits' % s_entropy)\n",
    " \n",
    "# split 1 (split via value1)\n",
    "s1_class0 = 7 / 8\n",
    "s1_class1 = 1 / 8\n",
    "# calculate the entropy of the first group\n",
    "s1_entropy = entropy(s1_class0, s1_class1)\n",
    "print('Group1 Entropy: %.3f bits' % s1_entropy)\n",
    " \n",
    "# split 2  (split via value2)\n",
    "s2_class0 = 6 / 12\n",
    "s2_class1 = 6 / 12\n",
    "# calculate the entropy of the second group\n",
    "s2_entropy = entropy(s2_class0, s2_class1)\n",
    "print('Group2 Entropy: %.3f bits' % s2_entropy)\n",
    " \n",
    "# calculate the information gain\n",
    "gain = s_entropy - (8/20 * s1_entropy + 12/20 * s2_entropy)\n",
    "print('Information Gain: %.3f bits' % gain)"
   ]
  }
 ],
 "metadata": {
  "kernelspec": {
   "display_name": "Python 3",
   "language": "python",
   "name": "python3"
  },
  "language_info": {
   "codemirror_mode": {
    "name": "ipython",
    "version": 3
   },
   "file_extension": ".py",
   "mimetype": "text/x-python",
   "name": "python",
   "nbconvert_exporter": "python",
   "pygments_lexer": "ipython3",
   "version": "3.9.15"
  }
 },
 "nbformat": 4,
 "nbformat_minor": 2
}
